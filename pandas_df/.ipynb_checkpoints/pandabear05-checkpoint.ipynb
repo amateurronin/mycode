{
 "cells": [
  {
   "cell_type": "code",
   "execution_count": null,
   "id": "d535fa88-23dc-4ada-8b2a-1e73596ec985",
   "metadata": {},
   "outputs": [],
   "source": [
    "pandabear05"
   ]
  }
 ],
 "metadata": {
  "kernelspec": {
   "display_name": "Python 3 (ipykernel)",
   "language": "python",
   "name": "python3"
  },
  "language_info": {
   "codemirror_mode": {
    "name": "ipython",
    "version": 3
   },
   "file_extension": ".py",
   "mimetype": "text/x-python",
   "name": "python",
   "nbconvert_exporter": "python",
   "pygments_lexer": "ipython3",
   "version": "3.10.6"
  }
 },
 "nbformat": 4,
 "nbformat_minor": 5
}
