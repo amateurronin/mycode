{
 "cells": [
  {
   "cell_type": "code",
   "execution_count": 1,
   "id": "7af2a481-b10f-47d1-9eb0-2efc3b544f26",
   "metadata": {
    "tags": []
   },
   "outputs": [],
   "source": [
    "# import pandas\n",
    "import pandas as pd"
   ]
  },
  {
   "cell_type": "code",
   "execution_count": 2,
   "id": "931673f9-e664-4ffc-b4d1-931580fe8405",
   "metadata": {
    "tags": []
   },
   "outputs": [],
   "source": [
    "# create some test data\n",
    "metric_data = [{'cluster': 'alphaCloud',\n",
    "                'power': 'on',\n",
    "                'domain': 'vmware.local',\n",
    "                'policy_name': 'MetricSEARCH',\n",
    "                'status': True,\n",
    "                'vserver': 'vmWare32'},\n",
    "                {'cluster': 'alphaCloud',\n",
    "                'power': 'off',\n",
    "                'domain': 'vmware.local',\n",
    "                'policy_name': 'MetricSEARCH',\n",
    "                'status': False,\n",
    "                'vserver': 'vmWare04'},\n",
    "                {'cluster': 'betaCloud',\n",
    "                'power': 'on',\n",
    "                'domain': 'vmware.local',\n",
    "                'policy_name': 'MetricSEARCH',\n",
    "                'status': 'on',\n",
    "                'vserver': 'vmWare20'},\n",
    "                {'cluster': 'betaCloud',\n",
    "                'power': 'on',\n",
    "                'domain': 'vmware.local',\n",
    "                'policy_name': 'MetricSEARCH',\n",
    "                'status': 'on',\n",
    "                'vserver': 'vmWare06'},\n",
    "                {'cluster': 'AWS',\n",
    "                'power': 'off',\n",
    "                'domain': 'acme.aws.example',\n",
    "                'policy_name': 'MetricSEARCH',\n",
    "                'status': True,\n",
    "                'vserver': 'AWS_vm007'}]"
   ]
  },
  {
   "cell_type": "code",
   "execution_count": 3,
   "id": "79cc412a-c83d-423e-996a-e3a25b33bcaa",
   "metadata": {
    "tags": []
   },
   "outputs": [],
   "source": [
    "mydf = pd.DataFrame(metric_data)"
   ]
  },
  {
   "cell_type": "code",
   "execution_count": 4,
   "id": "c0ad4481-6ef0-431a-b085-adc00d539453",
   "metadata": {
    "tags": []
   },
   "outputs": [
    {
     "data": {
      "text/html": [
       "<div>\n",
       "<style scoped>\n",
       "    .dataframe tbody tr th:only-of-type {\n",
       "        vertical-align: middle;\n",
       "    }\n",
       "\n",
       "    .dataframe tbody tr th {\n",
       "        vertical-align: top;\n",
       "    }\n",
       "\n",
       "    .dataframe thead th {\n",
       "        text-align: right;\n",
       "    }\n",
       "</style>\n",
       "<table border=\"1\" class=\"dataframe\">\n",
       "  <thead>\n",
       "    <tr style=\"text-align: right;\">\n",
       "      <th></th>\n",
       "      <th>cluster</th>\n",
       "      <th>power</th>\n",
       "      <th>domain</th>\n",
       "      <th>policy_name</th>\n",
       "      <th>status</th>\n",
       "      <th>vserver</th>\n",
       "    </tr>\n",
       "  </thead>\n",
       "  <tbody>\n",
       "    <tr>\n",
       "      <th>0</th>\n",
       "      <td>alphaCloud</td>\n",
       "      <td>on</td>\n",
       "      <td>vmware.local</td>\n",
       "      <td>MetricSEARCH</td>\n",
       "      <td>True</td>\n",
       "      <td>vmWare32</td>\n",
       "    </tr>\n",
       "    <tr>\n",
       "      <th>1</th>\n",
       "      <td>alphaCloud</td>\n",
       "      <td>off</td>\n",
       "      <td>vmware.local</td>\n",
       "      <td>MetricSEARCH</td>\n",
       "      <td>False</td>\n",
       "      <td>vmWare04</td>\n",
       "    </tr>\n",
       "    <tr>\n",
       "      <th>2</th>\n",
       "      <td>betaCloud</td>\n",
       "      <td>on</td>\n",
       "      <td>vmware.local</td>\n",
       "      <td>MetricSEARCH</td>\n",
       "      <td>on</td>\n",
       "      <td>vmWare20</td>\n",
       "    </tr>\n",
       "    <tr>\n",
       "      <th>3</th>\n",
       "      <td>betaCloud</td>\n",
       "      <td>on</td>\n",
       "      <td>vmware.local</td>\n",
       "      <td>MetricSEARCH</td>\n",
       "      <td>on</td>\n",
       "      <td>vmWare06</td>\n",
       "    </tr>\n",
       "    <tr>\n",
       "      <th>4</th>\n",
       "      <td>AWS</td>\n",
       "      <td>off</td>\n",
       "      <td>acme.aws.example</td>\n",
       "      <td>MetricSEARCH</td>\n",
       "      <td>True</td>\n",
       "      <td>AWS_vm007</td>\n",
       "    </tr>\n",
       "  </tbody>\n",
       "</table>\n",
       "</div>"
      ],
      "text/plain": [
       "      cluster power            domain   policy_name status    vserver\n",
       "0  alphaCloud    on      vmware.local  MetricSEARCH   True   vmWare32\n",
       "1  alphaCloud   off      vmware.local  MetricSEARCH  False   vmWare04\n",
       "2   betaCloud    on      vmware.local  MetricSEARCH     on   vmWare20\n",
       "3   betaCloud    on      vmware.local  MetricSEARCH     on   vmWare06\n",
       "4         AWS   off  acme.aws.example  MetricSEARCH   True  AWS_vm007"
      ]
     },
     "execution_count": 4,
     "metadata": {},
     "output_type": "execute_result"
    }
   ],
   "source": [
    "# display the dataframe\n",
    "mydf"
   ]
  },
  {
   "cell_type": "code",
   "execution_count": 18,
   "id": "46c52525-40e0-47ec-9383-111c8de0ef0f",
   "metadata": {
    "tags": []
   },
   "outputs": [
    {
     "ename": "AttributeError",
     "evalue": "'Series' object has no attribute 'status'",
     "output_type": "error",
     "traceback": [
      "\u001b[0;31m---------------------------------------------------------------------------\u001b[0m",
      "\u001b[0;31mAttributeError\u001b[0m                            Traceback (most recent call last)",
      "\u001b[0;32m/tmp/ipykernel_12435/2290520551.py\u001b[0m in \u001b[0;36m?\u001b[0;34m()\u001b[0m\n\u001b[1;32m      1\u001b[0m \u001b[0;31m# use the replace method to transform ONLY the status column to True\u001b[0m\u001b[0;34m\u001b[0m\u001b[0;34m\u001b[0m\u001b[0m\n\u001b[0;32m----> 2\u001b[0;31m \u001b[0mmydf\u001b[0m\u001b[0;34m.\u001b[0m\u001b[0mstatus\u001b[0m\u001b[0;34m.\u001b[0m\u001b[0mreplace\u001b[0m\u001b[0;34m(\u001b[0m\u001b[0;34m{\u001b[0m\u001b[0;34m'on'\u001b[0m\u001b[0;34m:\u001b[0m \u001b[0;32mTrue\u001b[0m\u001b[0;34m}\u001b[0m\u001b[0;34m,\u001b[0m \u001b[0minplace\u001b[0m\u001b[0;34m=\u001b[0m\u001b[0;32mTrue\u001b[0m\u001b[0;34m)\u001b[0m\u001b[0;34m\u001b[0m\u001b[0;34m\u001b[0m\u001b[0m\n\u001b[0m\u001b[1;32m      3\u001b[0m \u001b[0;31m# display the dataframe\u001b[0m\u001b[0;34m\u001b[0m\u001b[0;34m\u001b[0m\u001b[0m\n\u001b[1;32m      4\u001b[0m \u001b[0mmydf\u001b[0m\u001b[0;34m\u001b[0m\u001b[0;34m\u001b[0m\u001b[0m\n",
      "\u001b[0;32m~/.local/lib/python3.10/site-packages/pandas/core/generic.py\u001b[0m in \u001b[0;36m?\u001b[0;34m(self, name)\u001b[0m\n\u001b[1;32m   5985\u001b[0m             \u001b[0;32mand\u001b[0m \u001b[0mname\u001b[0m \u001b[0;32mnot\u001b[0m \u001b[0;32min\u001b[0m \u001b[0mself\u001b[0m\u001b[0;34m.\u001b[0m\u001b[0m_accessors\u001b[0m\u001b[0;34m\u001b[0m\u001b[0;34m\u001b[0m\u001b[0m\n\u001b[1;32m   5986\u001b[0m             \u001b[0;32mand\u001b[0m \u001b[0mself\u001b[0m\u001b[0;34m.\u001b[0m\u001b[0m_info_axis\u001b[0m\u001b[0;34m.\u001b[0m\u001b[0m_can_hold_identifiers_and_holds_name\u001b[0m\u001b[0;34m(\u001b[0m\u001b[0mname\u001b[0m\u001b[0;34m)\u001b[0m\u001b[0;34m\u001b[0m\u001b[0;34m\u001b[0m\u001b[0m\n\u001b[1;32m   5987\u001b[0m         ):\n\u001b[1;32m   5988\u001b[0m             \u001b[0;32mreturn\u001b[0m \u001b[0mself\u001b[0m\u001b[0;34m[\u001b[0m\u001b[0mname\u001b[0m\u001b[0;34m]\u001b[0m\u001b[0;34m\u001b[0m\u001b[0;34m\u001b[0m\u001b[0m\n\u001b[0;32m-> 5989\u001b[0;31m         \u001b[0;32mreturn\u001b[0m \u001b[0mobject\u001b[0m\u001b[0;34m.\u001b[0m\u001b[0m__getattribute__\u001b[0m\u001b[0;34m(\u001b[0m\u001b[0mself\u001b[0m\u001b[0;34m,\u001b[0m \u001b[0mname\u001b[0m\u001b[0;34m)\u001b[0m\u001b[0;34m\u001b[0m\u001b[0;34m\u001b[0m\u001b[0m\n\u001b[0m",
      "\u001b[0;31mAttributeError\u001b[0m: 'Series' object has no attribute 'status'"
     ]
    }
   ],
   "source": [
    "# use the replace method to transform ONLY the status column to True\n",
    "mydf.status.replace({'on': True}, inplace=True)\n",
    "# display the dataframe\n",
    "mydf"
   ]
  },
  {
   "cell_type": "code",
   "execution_count": null,
   "id": "e59d196c-05f7-4df0-9cb8-ade348e2a606",
   "metadata": {},
   "outputs": [],
   "source": []
  }
 ],
 "metadata": {
  "kernelspec": {
   "display_name": "Python 3 (ipykernel)",
   "language": "python",
   "name": "python3"
  },
  "language_info": {
   "codemirror_mode": {
    "name": "ipython",
    "version": 3
   },
   "file_extension": ".py",
   "mimetype": "text/x-python",
   "name": "python",
   "nbconvert_exporter": "python",
   "pygments_lexer": "ipython3",
   "version": "3.10.6"
  }
 },
 "nbformat": 4,
 "nbformat_minor": 5
}
